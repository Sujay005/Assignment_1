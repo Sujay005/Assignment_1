{
 "cells": [
  {
   "cell_type": "markdown",
   "metadata": {
    "id": "a9SeaxSYzUBz"
   },
   "source": [
    "# **1.What are the key features of python that makes it popular choice for programming?**\n",
    "\n",
    "The key features of python that makes it popular choice for programming are -\n",
    "\n",
    " -Very easy to use and understsand as it is a high level language its\n",
    "  syntax is very easy to adopt for the people and it is more like human\n",
    "  language.\n",
    "\n",
    " -PYthon's compatibility with various programming paradigsm such as\n",
    "  procedeural, functional programming, and object oriented it is widely\n",
    "  used.\n",
    "\n",
    " -It has a large no of different libraries which are used in different\n",
    "  fields in the industry.\n",
    "\n",
    " -It has a large and active community of developers."
   ]
  },
  {
   "cell_type": "code",
   "execution_count": null,
   "metadata": {},
   "outputs": [],
   "source": []
  },
  {
   "cell_type": "code",
   "execution_count": null,
   "metadata": {
    "id": "peqcjQzf_jOp"
   },
   "outputs": [],
   "source": []
  },
  {
   "cell_type": "markdown",
   "metadata": {
    "id": "xBVV6Srq2lfI"
   },
   "source": [
    "# **2.Describe the role of predefined keywords in Python and provide examples of how they are used in a programme?-**\n",
    "\n",
    "--Predefined keywords are reserved words that have special meaning in python.\n",
    "\n",
    "--These keywords are already defined to do a specific task and have specific\n",
    "  meaning.\n",
    "\n",
    "--These are words that define the syntax and structure of python\n",
    "  program . They are building block of python program and cannot be used as identifiers.\n",
    "\n",
    "  Some examples of keywords in python are-\n",
    "  for,while,if,elif,or,and,in etc.\n",
    "\n",
    "```\n",
    "#Example of using the keyword 'if'.\n",
    "x=10\n",
    "y=5\n",
    "if x>y:                             #if the condition after 'if' is true block of code inside if wil execute\n",
    "    print(\"x is greater than y\")    #else the block of code below else will execute\n",
    "else:\n",
    "    print(\"y is greater than x\")\n",
    "```\n",
    "\n",
    "\n",
    "\n",
    "\n"
   ]
  },
  {
   "cell_type": "code",
   "execution_count": null,
   "metadata": {
    "colab": {
     "base_uri": "https://localhost:8080/"
    },
    "id": "MZTIntSs6guU",
    "outputId": "10564bb3-1792-4ce6-cdd1-83efc8b3daf8"
   },
   "outputs": [
    {
     "name": "stdout",
     "output_type": "stream",
     "text": [
      "x is greater than y\n"
     ]
    }
   ],
   "source": [
    "#Example of using the keyword 'if'.\n",
    "x=10\n",
    "y=5\n",
    "if x>y:                             #if the condition after 'if' is true block of code inside if wil execute\n",
    "    print(\"x is greater than y\")    #else the block of code below else will execute\n",
    "else:\n",
    "    print(\"y is greater than x\")"
   ]
  },
  {
   "cell_type": "code",
   "execution_count": null,
   "metadata": {
    "id": "BBFHVgJc_pFB"
   },
   "outputs": [],
   "source": []
  },
  {
   "cell_type": "code",
   "execution_count": null,
   "metadata": {
    "id": "uQ2Fvi83_p9R"
   },
   "outputs": [],
   "source": []
  },
  {
   "cell_type": "markdown",
   "metadata": {
    "id": "iW5_t-gd7l8q"
   },
   "source": [
    "# **3.Compare and contrast mutable and immutable objects in python with examples.**\n",
    "\n",
    "\n",
    "*   Mutable objects are those which can be changed after creation\n",
    "*   Examples of mutable objects are List,Dictionary,Set\n",
    "\n",
    "```\n",
    "# Mutable example: list\n",
    "my_list = [1, 2, 3]\n",
    "my_list.append(4)  # List can be modified\n",
    "print(my_list)     # Output: [1, 2, 3, 4]\n",
    "\n",
    "```\n",
    "\n",
    "\n",
    "*   Immutable objects are those which cannot be changed after creation.\n",
    "*   Examples of immutable objects are String,Tuple,Integer\n",
    "\n",
    "```\n",
    "# Immutable example: string\n",
    "my_string = \"hello\"\n",
    "new_string = my_string.upper()  # Creates a new string, original is unchanged\n",
    "print(my_string)  # Output: hello\n",
    "print(new_string) # Output: HELLO\n",
    "\n",
    "```\n",
    "\n",
    "\n",
    "\n",
    "\n",
    "\n",
    "\n",
    "\n",
    "\n",
    "\n",
    "\n",
    "\n",
    "\n"
   ]
  },
  {
   "cell_type": "code",
   "execution_count": null,
   "metadata": {
    "colab": {
     "base_uri": "https://localhost:8080/"
    },
    "id": "_-0FZr3z-8Fd",
    "outputId": "17c44a15-ea0d-4a8a-cfb5-3972c160818e"
   },
   "outputs": [
    {
     "name": "stdout",
     "output_type": "stream",
     "text": [
      "[1, 2, 3, 4]\n"
     ]
    }
   ],
   "source": [
    "# Mutable example: list\n",
    "my_list = [1, 2, 3]\n",
    "my_list.append(4)  # List can be modified\n",
    "print(my_list)     # Output: [1, 2, 3, 4]"
   ]
  },
  {
   "cell_type": "code",
   "execution_count": null,
   "metadata": {
    "colab": {
     "base_uri": "https://localhost:8080/"
    },
    "id": "R1DbxeQV_Fqp",
    "outputId": "686a86d7-b2f1-4b22-b4cf-21e0b5be111f"
   },
   "outputs": [
    {
     "name": "stdout",
     "output_type": "stream",
     "text": [
      "hello\n",
      "HELLO\n"
     ]
    }
   ],
   "source": [
    "# Immutable example: string\n",
    "my_string = \"hello\"\n",
    "new_string = my_string.upper()  # Creates a new string, original is unchanged\n",
    "print(my_string)  # Output: hello\n",
    "print(new_string) # Output: HELLO"
   ]
  },
  {
   "cell_type": "code",
   "execution_count": null,
   "metadata": {
    "id": "xqs_xe9N_MDX"
   },
   "outputs": [],
   "source": []
  },
  {
   "cell_type": "markdown",
   "metadata": {
    "id": "TrOE5GnhEvLY"
   },
   "source": [
    "# **4.Describe different types of operators in python and provide examples how they are used**  \n",
    "\n",
    " Python has 7 types of operators-\n",
    "\n",
    " 1.Arithmatic operators- are operators that are used to do basic mathematical\n",
    "   operations. For eg; addition('+'), substraction('-'), Multiplication('*') etc.\n",
    "\n",
    " 2.Comparison operators- are operators that are used to compare two values and\n",
    "   returns true or false. For eg; Equal to('='), Not equal to('!='), Greater than('>')etc.\n",
    "\n",
    " 3.Logical operators-are operators that are used to combine conditional statements and results in true or false based on the conditions and operator. For eg; 'and' , 'or', 'not'.\n",
    "\n",
    " 4.Assignment operators-are operators that are used to assign a value to a variable. For eg; '=', '+=', '-='.\n",
    "\n",
    " 5.Bitwise operators-are operators that are used to perform bit-level operations. For eg; AND('&'), OR('|'), XOR('^') etc.\n",
    "\n",
    " 6.Membership operators -are operators that are used to test if a value is a member of a sequence or not. For eg; 'in', 'not in'.\n",
    "\n",
    " 7.Identity operators-are operators that are used to compare memory locations of two objects.   For eg; 'is', 'is not'."
   ]
  },
  {
   "cell_type": "code",
   "execution_count": null,
   "metadata": {
    "colab": {
     "base_uri": "https://localhost:8080/"
    },
    "id": "pjaMBoZBSzII",
    "outputId": "9a455a33-152c-4173-b6a4-a964a93a4f80"
   },
   "outputs": [
    {
     "data": {
      "text/plain": [
       "12"
      ]
     },
     "execution_count": 1,
     "metadata": {},
     "output_type": "execute_result"
    }
   ],
   "source": [
    "#Example of arithmatic operator\n",
    "a=5\n",
    "b=7\n",
    "a+b"
   ]
  },
  {
   "cell_type": "code",
   "execution_count": null,
   "metadata": {
    "colab": {
     "base_uri": "https://localhost:8080/"
    },
    "id": "sV7OBrQ5Teum",
    "outputId": "95119452-da4e-4b85-a48a-9f527025937b"
   },
   "outputs": [
    {
     "name": "stdout",
     "output_type": "stream",
     "text": [
      "False\n",
      "True\n",
      "False\n"
     ]
    }
   ],
   "source": [
    "#Example of comparison operator\n",
    "print(a==b)\n",
    "print(a<b)\n",
    "print(a>b)"
   ]
  },
  {
   "cell_type": "code",
   "execution_count": null,
   "metadata": {
    "colab": {
     "base_uri": "https://localhost:8080/"
    },
    "id": "42Y9WATDUKbk",
    "outputId": "380f58cb-403d-4fe1-bfb1-266e90935d2b"
   },
   "outputs": [
    {
     "name": "stdout",
     "output_type": "stream",
     "text": [
      "False\n",
      "True\n"
     ]
    }
   ],
   "source": [
    "#Example of logical operator\n",
    "print(a>b and a<b)\n",
    "print(a>b or a<b)\n"
   ]
  },
  {
   "cell_type": "code",
   "execution_count": null,
   "metadata": {
    "colab": {
     "base_uri": "https://localhost:8080/"
    },
    "id": "3SCtNKSHUjrD",
    "outputId": "e64f1d15-fb35-411e-ccaa-607996ffe234"
   },
   "outputs": [
    {
     "data": {
      "text/plain": [
       "13"
      ]
     },
     "execution_count": 4,
     "metadata": {},
     "output_type": "execute_result"
    }
   ],
   "source": [
    "#Eaxmple of assignment operator\n",
    "a=6\n",
    "a+=7\n",
    "a"
   ]
  },
  {
   "cell_type": "code",
   "execution_count": null,
   "metadata": {
    "colab": {
     "base_uri": "https://localhost:8080/"
    },
    "id": "Rg-Wh11rU21g",
    "outputId": "cee28482-07b6-4b7c-e48d-d7fb28066ee4"
   },
   "outputs": [
    {
     "name": "stdout",
     "output_type": "stream",
     "text": [
      "0\n",
      "15\n",
      "15\n"
     ]
    }
   ],
   "source": [
    "#Example of bitwise operator\n",
    "a=10\n",
    "b=5\n",
    "print(a&b)\n",
    "print(a|b)\n",
    "print(a^b)"
   ]
  },
  {
   "cell_type": "code",
   "execution_count": null,
   "metadata": {
    "colab": {
     "base_uri": "https://localhost:8080/"
    },
    "id": "8aLu346WVXW3",
    "outputId": "d41f40dc-b295-420d-fc36-fa987b0785bd"
   },
   "outputs": [
    {
     "name": "stdout",
     "output_type": "stream",
     "text": [
      "True\n",
      "True\n"
     ]
    }
   ],
   "source": [
    "#Example of membership operator\n",
    "my_list=[1,2,3,4,5]\n",
    "print(3 in my_list)\n",
    "print(6 not in my_list)"
   ]
  },
  {
   "cell_type": "code",
   "execution_count": null,
   "metadata": {
    "colab": {
     "base_uri": "https://localhost:8080/"
    },
    "id": "UhiQQ9oBVhWa",
    "outputId": "87c4fcfe-30f5-4403-dddb-6752ca3b829e"
   },
   "outputs": [
    {
     "name": "stdout",
     "output_type": "stream",
     "text": [
      "True\n",
      "False\n"
     ]
    }
   ],
   "source": [
    "#Example of identity operator\n",
    "a=5\n",
    "b=5\n",
    "print(a is b)\n",
    "print(a is not b)"
   ]
  },
  {
   "cell_type": "code",
   "execution_count": null,
   "metadata": {
    "id": "gc1qbhyaV025"
   },
   "outputs": [],
   "source": []
  },
  {
   "cell_type": "markdown",
   "metadata": {
    "id": "aok3SQf0WNnB"
   },
   "source": [
    "# **5.Explain rhe concept of type casting in python with examples**\n",
    "\n",
    "Type casting in Python is the process of converting a variable from one data type to another. This is useful when you need to perform operations between different types of data or when you need a specific data type for a function or operation. Python provides several built-in functions to facilitate type casting. Here’s a breakdown with examples\n"
   ]
  },
  {
   "cell_type": "code",
   "execution_count": null,
   "metadata": {
    "colab": {
     "base_uri": "https://localhost:8080/"
    },
    "id": "ryO7J5jdYHmA",
    "outputId": "a9db4050-28ec-49e3-dca9-bdceacb43fa7"
   },
   "outputs": [
    {
     "name": "stdout",
     "output_type": "stream",
     "text": [
      "5\n",
      "<class 'str'>\n",
      "5\n",
      "<class 'int'>\n",
      "5\n",
      "<class 'float'>\n"
     ]
    }
   ],
   "source": [
    "a='5'            #creating variable 'a' of string type\n",
    "print(a)\n",
    "print(type(a))\n",
    "\n",
    "b=int(a)        #converting 'a' to integer type\n",
    "print(a)\n",
    "print(type(b))\n",
    "\n",
    "c=float(a)       #converting 'a' to float type\n",
    "print(a)\n",
    "print(type(c))"
   ]
  },
  {
   "cell_type": "code",
   "execution_count": null,
   "metadata": {
    "id": "3Ev-vvy4ZOxr"
   },
   "outputs": [],
   "source": []
  },
  {
   "cell_type": "markdown",
   "metadata": {
    "id": "zpsLnKFlZxbm"
   },
   "source": [
    "# **6.How do conditional statements work in python illustrate with example**\n",
    "\n",
    "Conditional statements in Python are used to execute different blocks of code based on certain conditions. These statements allow your program to make decisions and control the flow of execution. The primary conditional statements in Python are if, elif, and else.\n",
    "\n",
    "if Statement: Executes a block of code if a condition is True\n",
    "\n",
    "elif (else if) Statement: Checks another condition if the previous if condition is False. You can have multiple elif statements.\n",
    "\n",
    "else Statement: Executes a block of code if all previous conditions are False. It’s optional but provides a default action."
   ]
  },
  {
   "cell_type": "code",
   "execution_count": null,
   "metadata": {
    "colab": {
     "base_uri": "https://localhost:8080/"
    },
    "id": "ltuoV8Fla_IN",
    "outputId": "db83390b-d8cd-476c-cf8a-8038aa75936f"
   },
   "outputs": [
    {
     "name": "stdout",
     "output_type": "stream",
     "text": [
      "Grade: B\n",
      "Grade: A\n"
     ]
    }
   ],
   "source": [
    "#Example 1:\n",
    "score = 85\n",
    "\n",
    "if score >= 90:\n",
    "    print(\"Grade: A\")\n",
    "elif score >= 80:\n",
    "    print(\"Grade: B\")\n",
    "elif score >= 70:\n",
    "    print(\"Grade: C\")\n",
    "else:\n",
    "    print(\"Grade: D\")\n",
    "\n",
    "#Example 2:\n",
    "score = 91\n",
    "\n",
    "if score >= 90:\n",
    "    print(\"Grade: A\")\n",
    "elif score >= 80:\n",
    "    print(\"Grade: B\")\n",
    "elif score >= 70:\n",
    "    print(\"Grade: C\")\n",
    "else:\n",
    "    print(\"Grade: D\")\n"
   ]
  },
  {
   "cell_type": "code",
   "execution_count": null,
   "metadata": {
    "id": "B7eke03ybXWO"
   },
   "outputs": [],
   "source": []
  },
  {
   "cell_type": "markdown",
   "metadata": {
    "id": "2HoMggNoclu5"
   },
   "source": [
    "# **7.Describe the different types of loop in python and their uses illustrate with examples**\n",
    "\n",
    "In Python, loops are used to execute a block of code repeatedly based on a condition or a sequence of elements. The primary types of loops in Python are for loops and while loops. Each type has its use cases and characteristics.\n",
    "\n",
    "1. for Loop\n",
    "The for loop is used to iterate over a sequence (like a list, tuple, string, or range). It is commonly used when the number of iterations is known or when iterating over a collection of time.\n",
    "\n",
    "2. while Loop\n",
    "The while loop repeatedly executes a block of code as long as a specified condition is True. It is typically used when the number of iterations is not known in advance and depends on a condition being met."
   ]
  },
  {
   "cell_type": "code",
   "execution_count": null,
   "metadata": {
    "colab": {
     "base_uri": "https://localhost:8080/"
    },
    "id": "qjATElvPdSZT",
    "outputId": "d6961c08-31f1-4247-a1cb-c8dfb161a66e"
   },
   "outputs": [
    {
     "name": "stdout",
     "output_type": "stream",
     "text": [
      "0\n",
      "1\n",
      "2\n",
      "3\n",
      "4\n",
      "for loop completed\n",
      "0\n",
      "1\n",
      "2\n",
      "3\n",
      "4\n",
      "while loop completed\n"
     ]
    }
   ],
   "source": [
    "#example of for loop\n",
    "for i in range(5):\n",
    "    print(i)\n",
    "print('for loop completed')\n",
    "\n",
    "#example of while loop\n",
    "count = 0\n",
    "\n",
    "while count < 5:\n",
    "    print(count)\n",
    "    count += 1\n",
    "print('while loop completed')\n",
    "\n"
   ]
  },
  {
   "cell_type": "code",
   "execution_count": null,
   "metadata": {
    "id": "cBh8DdZld2HI"
   },
   "outputs": [],
   "source": []
  }
 ],
 "metadata": {
  "colab": {
   "provenance": []
  },
  "kernelspec": {
   "display_name": "Python 3 (ipykernel)",
   "language": "python",
   "name": "python3"
  },
  "language_info": {
   "codemirror_mode": {
    "name": "ipython",
    "version": 3
   },
   "file_extension": ".py",
   "mimetype": "text/x-python",
   "name": "python",
   "nbconvert_exporter": "python",
   "pygments_lexer": "ipython3",
   "version": "3.11.5"
  }
 },
 "nbformat": 4,
 "nbformat_minor": 1
}
